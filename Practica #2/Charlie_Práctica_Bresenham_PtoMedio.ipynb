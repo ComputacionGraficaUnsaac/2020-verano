{
  "nbformat": 4,
  "nbformat_minor": 0,
  "metadata": {
    "colab": {
      "name": "Charlie - Práctica Bresenham",
      "provenance": [],
      "collapsed_sections": []
    },
    "kernelspec": {
      "display_name": "Python 3",
      "name": "python3"
    }
  },
  "cells": [
    {
      "cell_type": "markdown",
      "metadata": {
        "id": "9NXbI8A4bl_T"
      },
      "source": [
        "Universidad Nacional de San Antonio del Cusco\n",
        "\n",
        "Departamento Académico de Informática\n",
        "\n",
        "Algoritmos Paralelos y Distribuidos\n",
        "\n",
        "**Guia Practica - Grafica de Lineas**\n",
        "\n",
        "Docente: Dra. Roxana Lisette Quintanilla Portugal"
      ]
    },
    {
      "cell_type": "markdown",
      "metadata": {
        "id": "XJxJ9WeRgDNx"
      },
      "source": [
        "**Prerequisitos**: Importar biblioteca para ploteo de imagenes"
      ]
    },
    {
      "cell_type": "code",
      "metadata": {
        "id": "7QTC5W0mdB_z"
      },
      "source": [
        "import matplotlib.pyplot as plt"
      ],
      "execution_count": 1,
      "outputs": []
    },
    {
      "cell_type": "markdown",
      "metadata": {
        "id": "iNl-6Y4mC3Gr"
      },
      "source": [
        "Este codigo permite dibujar una linea teniendo ya todos las coordenadas en dos arreglos, a1 y a2. Sin embargo la libreria no permite ver a nivel de pixel. Vea que al establecer los limites de x & y en 2, la libreria renderiza el canvas para dar mayor granularidad entre punto y punto de las coordenadas.\n"
      ]
    },
    {
      "cell_type": "code",
      "metadata": {
        "colab": {
          "base_uri": "https://localhost:8080/",
          "height": 269
        },
        "id": "E1eEGroOTjit",
        "outputId": "e1343a9b-2b3a-4356-9035-9c8d3b2c5bc5"
      },
      "source": [
        "a1 = [0, 1, 2]\n",
        "a2 = [0, 1, 2]\n",
        "\n",
        "for i in range(3):\n",
        "    plt.xlim(right=2) \n",
        "    plt.ylim(top=2)\n",
        "    plt.plot(a1,a2,)\n",
        "\n",
        "plt.show()"
      ],
      "execution_count": 2,
      "outputs": [
        {
          "output_type": "display_data",
          "data": {
            "image/png": "[encoded data removed]",
            "text/plain": [
              "<Figure size 432x288 with 1 Axes>"
            ]
          },
          "metadata": {
            "tags": [],
            "needs_background": "light"
          }
        }
      ]
    },
    {
      "cell_type": "markdown",
      "metadata": {
        "id": "aT6nbLs7klUN"
      },
      "source": [
        "Investigamos otra libreria de graficos (pillow) que permitiría imprimir por pixel\n"
      ]
    },
    {
      "cell_type": "code",
      "metadata": {
        "colab": {
          "base_uri": "https://localhost:8080/"
        },
        "id": "rp0KXPpeLEgC",
        "outputId": "37d4faf8-16df-49a0-fb39-f70e01344d0d"
      },
      "source": [
        " pip install Pillow"
      ],
      "execution_count": 3,
      "outputs": [
        {
          "output_type": "stream",
          "text": [
            "Requirement already satisfied: Pillow in /usr/local/lib/python3.7/dist-packages (7.1.2)\n"
          ],
          "name": "stdout"
        }
      ]
    },
    {
      "cell_type": "markdown",
      "metadata": {
        "id": "PppS0LwpHG1Z"
      },
      "source": [
        "El procedimiendo de Pillow es crear un canvas que luego servira de lienzo para dibujar por encima (puntos, lineas, etc). El codigo a seguir muestra los pasos 1-2 para crear y guardar el canvas. Los pasos 3-4 sirven para el ploteo; asi, es importante notar que la libreria Pillow, en el paso 3, solamente abre la imagen. En el paso 4, haciendo uso de la libreria matplotlib.pyplot, se realiza el ploteo en si.\n"
      ]
    },
    {
      "cell_type": "code",
      "metadata": {
        "colab": {
          "base_uri": "https://localhost:8080/",
          "height": 283
        },
        "id": "zgdex2LGLIij",
        "outputId": "ccc126c0-dd7b-4877-87cd-c094a80c753a"
      },
      "source": [
        "import matplotlib.pyplot as plt\n",
        "from matplotlib.pyplot import imshow\n",
        "from PIL import Image, ImageDraw\n",
        "\n",
        "#1. dibujar canvas\n",
        "blank_image = Image.new('RGB', (10, 10), 'gray')\n",
        "img_draw = ImageDraw.Draw(blank_image)\n",
        "\n",
        "#2. guardar la imagen\n",
        "blank_image.save('blank_image.jpg')\n",
        "\n",
        "#3. abrir la imagen utilizando el nombre que ya esta en la ruta por defecto del Colab\n",
        "img = Image.open('blank_image.jpg')\n",
        "\n",
        "#4. Como plt sabe cómo manejar la instancia de la clase Image, simplemente ingrese su imagen cargada al método imshow\n",
        "plt.imshow(img, origin=\"lower\")\n"
      ],
      "execution_count": 4,
      "outputs": [
        {
          "output_type": "execute_result",
          "data": {
            "text/plain": [
              "<matplotlib.image.AxesImage at 0x7f7fbf928790>"
            ]
          },
          "metadata": {
            "tags": []
          },
          "execution_count": 4
        },
        {
          "output_type": "display_data",
          "data": {
            "image/png": "[encoded data removed]",
            "text/plain": [
              "<Figure size 432x288 with 1 Axes>"
            ]
          },
          "metadata": {
            "tags": [],
            "needs_background": "light"
          }
        }
      ]
    },
    {
      "cell_type": "markdown",
      "metadata": {
        "id": "hKykPMUiYOb0"
      },
      "source": [
        "Algoritmo DDA"
      ]
    },
    {
      "cell_type": "code",
      "metadata": {
        "colab": {
          "base_uri": "https://localhost:8080/",
          "height": 300
        },
        "id": "edlSXZ3WYK5s",
        "outputId": "37daa495-9ab7-40c1-8b9b-d1d37709b3d1"
      },
      "source": [
        "from matplotlib.pyplot import imshow\n",
        "from PIL import Image, ImageDraw\n",
        "\n",
        "def ROUND(a):\n",
        "\treturn int(a + 0.5)\n",
        " \n",
        "def drawDDA(x1,y1,x2,y2,img_draw):\n",
        "  #1. identificar los diferenciales (los pixeles que van a recorrer en cada eje)\n",
        "  dx = (x2-x1)\n",
        "  dy = (y2-y1)\n",
        "\n",
        "  #2. determinar el largo de la linea\n",
        "  length = dx if dx > dy else dy\n",
        "\n",
        "  #3. calcular incrementos en x & y\n",
        "  ix = dx/length\n",
        "  iy = dy/length\n",
        "\n",
        "  #4. asignar los puntos de inicio\n",
        "  x,y = x1,y1\n",
        "\n",
        "  #5. pintar el punto de inicio\n",
        "  img_draw.point((ROUND(x),ROUND(y)),fill='blue')\n",
        "  \n",
        "  #6. aqui inicia el dibujo de los demás puntos de la linea hasta el final\n",
        "  for i in range(length):\n",
        "    x += ix\n",
        "    y += iy\n",
        "    img_draw.point((ROUND(x),ROUND(y)),fill='lightblue')\n",
        "\n",
        "#aqui termina el algoritmo de DDA\n",
        "\n",
        "#abrir el canvas creado anteriormente\n",
        "img = Image.open('blank_image.jpg')\n",
        "\n",
        "#llamar al ImageDraw de Pillow para manipular la imagen abierta \n",
        "img_draw = ImageDraw.Draw(img)\n",
        "\n",
        "#dibujar las lineas\n",
        "%timeit drawDDA(0,0,4,8, img_draw)\n",
        "\n",
        "#guardar la imagen\n",
        "img.save('dda_image.jpg')\n",
        "\n",
        "# plotear la imagen \n",
        "plt.imshow(img,origin='lower')\n",
        "\n"
      ],
      "execution_count": 5,
      "outputs": [
        {
          "output_type": "stream",
          "text": [
            "10000 loops, best of 5: 28.9 µs per loop\n"
          ],
          "name": "stdout"
        },
        {
          "output_type": "execute_result",
          "data": {
            "text/plain": [
              "<matplotlib.image.AxesImage at 0x7f7fb8c6ab90>"
            ]
          },
          "metadata": {
            "tags": []
          },
          "execution_count": 5
        },
        {
          "output_type": "display_data",
          "data": {
            "image/png": "[encoded data removed]",
            "text/plain": [
              "<Figure size 432x288 with 1 Axes>"
            ]
          },
          "metadata": {
            "tags": [],
            "needs_background": "light"
          }
        }
      ]
    },
    {
      "cell_type": "markdown",
      "metadata": {
        "id": "XGgj_9nYgyei"
      },
      "source": [
        "\n",
        "Si | m | < 1, la línea es más horizontal que vertical.\n",
        "Según tiende a cero m, la línea tiende a ser horizontal.\n",
        "\n",
        "Si | m | > 1, la línea es más vertical que horizontal.\n",
        "Según tiende a infinito m, la línea tiende a ser vertical.\n",
        "\n",
        "Compare el tiempo de ejecución en ambas situaciones y justifique porque uno demora más que el otro. Además, para ayudar en su respuesta, Grafique una linea completamente vertical. \n"
      ]
    },
    {
      "cell_type": "markdown",
      "metadata": {
        "id": "TONCUWZLYTAc"
      },
      "source": [
        "**Algoritmo** **Bresenham**"
      ]
    },
    {
      "cell_type": "markdown",
      "metadata": {
        "id": "x9jeHiVUElxe"
      },
      "source": [
        "El algoritmo de Bresenham utiliza, a diferencia de DDA, requiere solo una suma de enteros y una prueba de signo para cada píxel generado; logrando asi menor tiempo de ejecucion y uso de memoria.\n",
        "La prueba de signo sirve de control cuando la pendiente es mayor a 1.\n"
      ]
    },
    {
      "cell_type": "code",
      "metadata": {
        "colab": {
          "base_uri": "https://localhost:8080/",
          "height": 473
        },
        "id": "1NPcr5fPYQcM",
        "outputId": "76b6c6cb-6678-4736-b60c-8c50550d55fa"
      },
      "source": [
        "from matplotlib.pyplot import imshow\n",
        "import numpy as np\n",
        "from PIL import Image, ImageDraw\n",
        "\n",
        "def drawBresenham(x1,y1,x2,y2,img_draw):\n",
        "  #inicializar variable\n",
        "  x = x1\n",
        "  y = y1\n",
        "  #calcular los diferenciales\n",
        "  dx = abs(x2-x1)\n",
        "  dy = abs(y2-y1)\n",
        "  m= dy/dx\n",
        "  print(\"m=\",m)\n",
        "  #bresenham maneja el artificio de los signos para dibujar en cualquier cuadrante\n",
        "  Sx = np.sign(x2-x1) #5\n",
        "  Sy = np.sign(y2-y1) #6  \n",
        "  #el swap deacuerdo a la pendiente. Si es mayor a 1 entonces dy crece más, por tanto el swap \n",
        "  if (dy>dx): \n",
        "    steps = dy #steps o largo de linea\n",
        "    t = dx\n",
        "    dx = dy\n",
        "    dy = t    \n",
        "    #steps = dy #steps o largo de linea\n",
        "    flag = 1\n",
        "  else:\n",
        "    steps = dx\n",
        "    flag = 0\n",
        "\n",
        "  #el Pk viene a ser el valor de error o fault visto en otras versiones del algoritmo\n",
        "  Pk = 2*dy - dx \n",
        "  # dibuja el punto inicial\n",
        "  img_draw.point((x,y), fill='blue')\n",
        "  # comienza a iterar a lo largo de la linea (definido por steps)\n",
        "  for i in range(steps): # range va hasta antes de un numero especifico, por eso el +1 -------------------------------\n",
        "    while Pk > 0: \n",
        "      if flag == 1:\n",
        "        x += Sx   \n",
        "      else:\n",
        "        y += Sy\n",
        "      Pk = Pk - 2*dx \n",
        "    if flag == 1:\n",
        "      y += Sy\n",
        "    else:\n",
        "      x += Sx   \n",
        "    Pk += 2*dy \n",
        "    img_draw.point((x,y), fill='black')\n",
        "    print(\"x,y\",x,y)\n",
        "#aqui termina bresenham\n",
        "#abrir el canvas creado anteriormente\n",
        "img = Image.open('blank_image.jpg')\n",
        "\n",
        "#llamar al ImageDraw de Pillow para manipular la imagen abierta \n",
        "img_draw = ImageDraw.Draw(img)\n",
        "\n",
        "#dibujar las lineas\n",
        "drawBresenham(0,0,10,4, img_draw)\n",
        "#guardar la imagen\n",
        "img.save('breh_image.jpg')\n",
        "# plotear la imagen \n",
        "plt.imshow(img,origin='lower')\n",
        "#referencia:  https://books.google.com.pe/books?id=WXzId7sBZiMC&pg=PA53&lpg=PA53&dq=dda+algorithm+ucertify&source=bl&ots=hLyKv0lzVd&sig=ACfU3U3DmckQs1wmMMY23OusjnwsPLAJTQ&hl=es&sa=X&ved=2ahUKEwidndWcuvrqAhUmnOAKHfCnD7YQ6AEwFnoECAsQAQ#v=snippet&q=bresenham&f=false"
      ],
      "execution_count": 6,
      "outputs": [
        {
          "output_type": "stream",
          "text": [
            "m= 0.4\n",
            "x,y 1 0\n",
            "x,y 2 1\n",
            "x,y 3 1\n",
            "x,y 4 2\n",
            "x,y 5 2\n",
            "x,y 6 2\n",
            "x,y 7 3\n",
            "x,y 8 3\n",
            "x,y 9 4\n",
            "x,y 10 4\n"
          ],
          "name": "stdout"
        },
        {
          "output_type": "execute_result",
          "data": {
            "text/plain": [
              "<matplotlib.image.AxesImage at 0x7f7fb8be1cd0>"
            ]
          },
          "metadata": {
            "tags": []
          },
          "execution_count": 6
        },
        {
          "output_type": "display_data",
          "data": {
            "image/png": "[encoded data removed]",
            "text/plain": [
              "<Figure size 432x288 with 1 Axes>"
            ]
          },
          "metadata": {
            "tags": [],
            "needs_background": "light"
          }
        }
      ]
    },
    {
      "cell_type": "markdown",
      "metadata": {
        "id": "g11ByP4hemHo"
      },
      "source": [
        "**Ejercicio en clase**: modificar el código para que pueda rasterizarse una linea con las siguientes coordenadas (0,0) y (4,7)"
      ]
    },
    {
      "cell_type": "markdown",
      "metadata": {
        "id": "tIDiGHoZO_ZC"
      },
      "source": [
        "**Ejercicio propuesto:**\n",
        "Realizar el algoritmo del Punto Medio \n"
      ]
    },
    {
      "cell_type": "code",
      "metadata": {
        "colab": {
          "base_uri": "https://localhost:8080/",
          "height": 421
        },
        "id": "4egDFweMe6xw",
        "outputId": "e92a3f13-4139-4b16-bbc5-c852c7d6c005"
      },
      "source": [
        "from matplotlib.pyplot import imshow\n",
        "import numpy as np\n",
        "from PIL import Image, ImageDraw\n",
        "def PuntoMedio(x0,y0,x1,y1,img_draw):\n",
        "  #inicializar variable\n",
        "  Dx=x1-x0\n",
        "  Dy=y1-y0\n",
        "  #Muestra la pendiente\n",
        "  m= Dy/Dx\n",
        "  print(\"m=\",m)\n",
        "  #---------------\n",
        "  dm=2*Dx-Dy\n",
        "  dmP1=2*Dy\n",
        "  dmP2=2*Dy-2*Dx\n",
        "  y=y0\n",
        "  #Punto inicial\n",
        "  img_draw.point((x,y), fill='blue')\n",
        "  #Iniciamos una estructura repetitiva\n",
        "  for J in range(x0,x1+1):\n",
        "    print(\"x,y\",x,y)\n",
        "    img_draw.point((x,y), fill='black')\n",
        "    if(dm<=0):\n",
        "      dm+=dmP1\n",
        "    else:\n",
        "      dm+=dmP2\n",
        "      y=y+1\n",
        "#aqui termina el algoritmo del PUNTO MEDIO\n",
        "#abrir el canvas creado anteriormente\n",
        "img = Image.open('blank_image.jpg')\n",
        "#llamar al ImageDraw de Pillow para manipular la imagen abierta \n",
        "img_draw = ImageDraw.Draw(img)\n",
        "#dibujar las lineas\n",
        "drawBresenham(1,1,8,3, img_draw)\n",
        "#guardar la imagen\n",
        "img.save('breh_image.jpg')\n",
        "# plotear la imagen \n",
        "plt.imshow(img,origin='lower')"
      ],
      "execution_count": 11,
      "outputs": [
        {
          "output_type": "stream",
          "text": [
            "m= 0.2857142857142857\n",
            "x,y 2 1\n",
            "x,y 3 2\n",
            "x,y 4 2\n",
            "x,y 5 2\n",
            "x,y 6 2\n",
            "x,y 7 3\n",
            "x,y 8 3\n"
          ],
          "name": "stdout"
        },
        {
          "output_type": "execute_result",
          "data": {
            "text/plain": [
              "<matplotlib.image.AxesImage at 0x7f7fb89b6f50>"
            ]
          },
          "metadata": {
            "tags": []
          },
          "execution_count": 11
        },
        {
          "output_type": "display_data",
          "data": {
            "image/png": "[encoded data removed]",
            "text/plain": [
              "<Figure size 432x288 with 1 Axes>"
            ]
          },
          "metadata": {
            "tags": [],
            "needs_background": "light"
          }
        }
      ]
    },
    {
      "cell_type": "markdown",
      "metadata": {
        "id": "JmCHzDTu3mqs"
      },
      "source": [
        "# Curiosidades\n",
        "\"Mire, a Bresenham se le ocurrió una idea que resultó en un algoritmo real (= código) para dibujar líneas y círculos. El algoritmo final (= código / pseudocódigo) fue presentado primero por Bresenham y, por lo tanto, se llama algoritmo de Bresenham.\n",
        "\n",
        "Más tarde, Pitteway adoptó un enfoque diferente (= idea matemática) que se puede aplicar a algo más que líneas y círculos. Sin embargo, cuando se usa con líneas (y círculos), el algoritmo resultante (= código) es exactamente el de Bresenham. No obstante, el algoritmo (código / pseudocódigo) a menudo se llama algoritmo de punto medio porque la \"idea de punto medio\" es más poderosa en general y por lo tanto \"mejor\" que la de Bresenham.\n",
        "\n",
        "¡Los algoritmos de dibujo lineal resultantes (= código) son exactamente iguales! Lo que lo convierte en Bresenham o Midpoint es la idea que está detrás del algoritmo, cómo el algoritmo (= código) se dedujo originalmente (= idea), se explicó (= idea) a los estudiantes o cómo se demuestra su corrección.\" \n",
        "\n",
        "fuente:https://arstechnica.com/civis/viewtopic.php?t=554096\n",
        "\n",
        "---\n"
      ]
    }
  ]
}